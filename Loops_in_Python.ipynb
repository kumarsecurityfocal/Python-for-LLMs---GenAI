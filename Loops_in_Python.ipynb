{
 "cells": [
  {
   "cell_type": "markdown",
   "id": "b397406b",
   "metadata": {},
   "source": [
    "# Loops in Python\n",
    "\n",
    "In this notebook, we will explore how loops work in Python. Loops are fundamental when you need to repeat actions multiple times or iterate through items in a sequence.\n",
    "\n",
    "## What Will Be Covered\n",
    "\n",
    "1. **Introduction to Loops**\n",
    "   - Why and where loops are used in programming\n",
    "2. **The `for` Loop**\n",
    "   - Syntax and how it works\n",
    "   - Using `range()` with different parameters\n",
    "   - Iterating over strings and lists\n",
    "3. **The `while` Loop**\n",
    "   - Looping based on conditions\n",
    "   - Differences between `for` and `while`\n",
    "4. **Loop Control Statements**\n",
    "   - `break`: Exit the loop early\n",
    "   - `continue`: Skip the current iteration\n",
    "   - `pass`: Placeholder for future code\n",
    "5. **Real-life Examples**\n",
    "   - Multiplication table\n",
    "   - Counting vowels\n",
    "   - List summation\n",
    "6. **Summary and Quiz**\n",
    "   - Quick recap\n",
    "   - Practice questions to test your understanding\n",
    "\n",
    "Let’s begin!\n"
   ]
  },
  {
   "cell_type": "markdown",
   "id": "68efcc2b",
   "metadata": {},
   "source": [
    "## 1. Introduction to Loops\n",
    "\n",
    "Loops allow us to execute a block of code multiple times. This is useful when we want to repeat an action without rewriting the code.\n",
    "\n",
    "Python provides two main types of loops:\n",
    "\n",
    "- **`for` loop**: Used for iterating over a sequence (like a list, string, or range).\n",
    "- **`while` loop**: Repeats as long as a condition is `True`.\n",
    "\n",
    "Let’s understand this with a real-life example:\n",
    "\n",
    "🔸 Suppose you want to print \"Hello\" 5 times. You can do this using a loop instead of repeating `print(\"Hello\")` five times manually."
   ]
  },
  {
   "cell_type": "code",
   "execution_count": 1,
   "id": "a918d4a2",
   "metadata": {},
   "outputs": [
    {
     "name": "stdout",
     "output_type": "stream",
     "text": [
      "Hello\n",
      "Hello\n",
      "Hello\n",
      "Hello\n",
      "Hello\n"
     ]
    }
   ],
   "source": [
    "# Repeating manually (not recommended for large repetition)\n",
    "print(\"Hello\")\n",
    "print(\"Hello\")\n",
    "print(\"Hello\")\n",
    "print(\"Hello\")\n",
    "print(\"Hello\")"
   ]
  },
  {
   "cell_type": "code",
   "execution_count": null,
   "id": "1b04b5d7",
   "metadata": {},
   "outputs": [
    {
     "name": "stdout",
     "output_type": "stream",
     "text": [
      "Hello\n",
      "Hello\n",
      "Hello\n",
      "Hello\n",
      "Hello\n"
     ]
    }
   ],
   "source": [
    "# Using a loop to repeat an action (More Efficient)\n",
    "for i in range(5):\n",
    "    print(\"Hello\")"
   ]
  },
  {
   "cell_type": "markdown",
   "id": "33c9d4f5",
   "metadata": {},
   "source": [
    "## 2. The `for` Loop\n",
    "\n",
    "A `for` loop in Python is used to iterate over a sequence like a list, string, or a range of numbers.\n",
    "\n",
    "### Syntax:\n",
    "```python\n",
    "for variable in sequence:\n",
    "    # Code block to repeat"
   ]
  },
  {
   "cell_type": "code",
   "execution_count": 3,
   "id": "f8e062cc",
   "metadata": {},
   "outputs": [
    {
     "name": "stdout",
     "output_type": "stream",
     "text": [
      "0\n",
      "1\n",
      "2\n",
      "3\n",
      "4\n"
     ]
    }
   ],
   "source": [
    "for i in range(5):\n",
    "    print(i)"
   ]
  },
  {
   "cell_type": "markdown",
   "id": "9edad627",
   "metadata": {},
   "source": [
    "The `range()` function generates numbers starting from **0 up to (but not including) 5**.\n",
    "\n",
    "So the loop runs 5 times and prints values: 0, 1, 2, 3, 4\n",
    "range(stop)\n",
    "range(start, stop)\n",
    "range(start, stop, step)"
   ]
  },
  {
   "cell_type": "code",
   "execution_count": 7,
   "id": "47226f86",
   "metadata": {},
   "outputs": [
    {
     "name": "stdout",
     "output_type": "stream",
     "text": [
      "1\n",
      "2\n",
      "3\n",
      "4\n",
      "5\n",
      "6\n",
      "7\n",
      "8\n",
      "9\n"
     ]
    }
   ],
   "source": [
    "for i in range(1, 10):\n",
    "    print(i)\n"
   ]
  },
  {
   "cell_type": "code",
   "execution_count": 8,
   "id": "038e95b4",
   "metadata": {},
   "outputs": [
    {
     "name": "stdout",
     "output_type": "stream",
     "text": [
      "1\n",
      "3\n",
      "5\n",
      "7\n",
      "9\n"
     ]
    }
   ],
   "source": [
    "for i in range(1, 10, 2):\n",
    "    print(i)"
   ]
  },
  {
   "cell_type": "code",
   "execution_count": 9,
   "id": "cc1f7cab",
   "metadata": {},
   "outputs": [
    {
     "name": "stdout",
     "output_type": "stream",
     "text": [
      "10\n",
      "9\n",
      "8\n",
      "7\n",
      "6\n",
      "5\n",
      "4\n",
      "3\n",
      "2\n",
      "1\n"
     ]
    }
   ],
   "source": [
    "# Count down from 10 to 1\n",
    "for i in range(10, 0, -1):\n",
    "    print(i)\n"
   ]
  },
  {
   "cell_type": "code",
   "execution_count": null,
   "id": "2f1572c5",
   "metadata": {},
   "outputs": [
    {
     "name": "stdout",
     "output_type": "stream",
     "text": [
      "P\n",
      "y\n",
      "t\n",
      "h\n",
      "o\n",
      "n\n",
      " \n",
      "i\n",
      "s\n",
      " \n",
      "A\n",
      "w\n",
      "e\n",
      "s\n",
      "o\n",
      "m\n",
      "e\n"
     ]
    }
   ],
   "source": [
    "# You can also use a \"for\" loop to iterate through characters in a string.\n",
    "for i in \"Python is Awesome\":\n",
    "    print(i)"
   ]
  },
  {
   "cell_type": "markdown",
   "id": "a514faae",
   "metadata": {},
   "source": [
    "## 3. The `while` Loop\n",
    "\n",
    "The `while` loop keeps executing a block of code **as long as the condition is `True`**.\n",
    "\n",
    "### Syntax:\n",
    "```python\n",
    "while condition:\n",
    "    # Code block to repeat\n"
   ]
  },
  {
   "cell_type": "code",
   "execution_count": 18,
   "id": "7003b204",
   "metadata": {},
   "outputs": [
    {
     "name": "stdout",
     "output_type": "stream",
     "text": [
      "0\n",
      "1\n",
      "2\n",
      "3\n",
      "4\n"
     ]
    }
   ],
   "source": [
    "# Print numbers from 0 to 4 using while loop\n",
    "count = 0\n",
    "while count < 5:\n",
    "    print(count)\n",
    "    count += 1 # count = count + 1"
   ]
  },
  {
   "cell_type": "code",
   "execution_count": null,
   "id": "a2ad2e91",
   "metadata": {},
   "outputs": [],
   "source": [
    "# Infinite Loop Example\n",
    "# x = 0\n",
    "# while x < 5:\n",
    "#    print(x)\n",
    "# missing x += 1"
   ]
  },
  {
   "cell_type": "code",
   "execution_count": 1,
   "id": "9341e188",
   "metadata": {},
   "outputs": [
    {
     "name": "stdout",
     "output_type": "stream",
     "text": [
      "Access granted.\n"
     ]
    }
   ],
   "source": [
    "# You can also use a `while` loop to keep asking the user for input until they provide a correct value.\n",
    "\n",
    "password = \"\"\n",
    "\n",
    "while password != \"python123\":\n",
    "    password = input(\"Enter the password: \")\n",
    "\n",
    "print(\"Access granted.\")"
   ]
  },
  {
   "cell_type": "markdown",
   "id": "5eb953b2",
   "metadata": {},
   "source": [
    "### When to Use `while` vs. `for`?\n",
    "\n",
    "- Use `for` loop when:\n",
    "  - You know how many times to repeat (e.g., fixed range or list)\n",
    "\n",
    "- Use `while` loop when:\n",
    "  - You want to repeat until a certain condition is met (e.g., user input, sensor threshold)\n",
    "\n",
    "Next, we’ll learn how to control loop behavior using `break`, `continue`, and `pass`."
   ]
  },
  {
   "cell_type": "markdown",
   "id": "1b27c9ef",
   "metadata": {},
   "source": [
    "## 4. Loop Control Statements\n",
    "\n",
    "Sometimes we need more control inside a loop:\n",
    "- Exit the loop early\n",
    "- Skip some iterations\n",
    "- Placeholder for future code\n",
    "\n",
    "Python provides three control statements for this:\n",
    "1. **`break`** – Exit the loop immediately.\n",
    "2. **`continue`** – Skip the current iteration and move to the next.\n",
    "3. **`pass`** – Do nothing (used as a placeholder).\n"
   ]
  },
  {
   "cell_type": "code",
   "execution_count": 2,
   "id": "e30e46cf",
   "metadata": {},
   "outputs": [
    {
     "name": "stdout",
     "output_type": "stream",
     "text": [
      "Current number: 0\n",
      "Current number: 1\n",
      "Current number: 2\n",
      "Breaking at 3\n"
     ]
    }
   ],
   "source": [
    "\n",
    "# Using Break\n",
    "# Stop the loop when number equals 3\n",
    "\n",
    "for i in range(6):\n",
    "    if i == 3:\n",
    "        print(\"Breaking at\", i)\n",
    "        break\n",
    "    print(\"Current number:\", i)\n"
   ]
  },
  {
   "cell_type": "markdown",
   "id": "e0d824c3",
   "metadata": {},
   "source": [
    "- The `break` statement stops the loop as soon as the condition is met.\n",
    "- In this example, the loop exits when `i` becomes 3."
   ]
  },
  {
   "cell_type": "code",
   "execution_count": null,
   "id": "456ec764",
   "metadata": {},
   "outputs": [
    {
     "name": "stdout",
     "output_type": "stream",
     "text": [
      "Current number: 0\n",
      "Current number: 1\n",
      "Current number: 2\n",
      "Current number: 4\n",
      "Current number: 5\n"
     ]
    }
   ],
   "source": [
    "# Using Continue skip the current iteration\n",
    "# Skip the number 3\n",
    "for i in range(6):\n",
    "    if i == 3:\n",
    "        continue\n",
    "    print(\"Current number:\", i)"
   ]
  },
  {
   "cell_type": "code",
   "execution_count": 5,
   "id": "3c072ad9",
   "metadata": {},
   "outputs": [
    {
     "name": "stdout",
     "output_type": "stream",
     "text": [
      "Processing: 0\n",
      "This is a placeholder\n",
      "Processing: 1\n",
      "Processing: 2\n"
     ]
    }
   ],
   "source": [
    "# Example where pass is used as a placeholder\n",
    "for i in range(3):\n",
    "    if i == 1:\n",
    "        pass  # Placeholder for future code\n",
    "        print(\"This is a placeholder\")\n",
    "    print(\"Processing:\", i)\n"
   ]
  },
  {
   "cell_type": "markdown",
   "id": "e82267e1",
   "metadata": {},
   "source": [
    "- The `pass` statement does nothing.\n",
    "- It's often used as a placeholder when the code is not ready yet."
   ]
  },
  {
   "cell_type": "markdown",
   "id": "af3569fd",
   "metadata": {},
   "source": [
    "### Summary:\n",
    "- Use `break` to exit the loop early based on a condition.\n",
    "- Use `continue` to skip the rest of the loop body for the current iteration.\n",
    "- Use `pass` when you need a syntactically valid block with no action.\n",
    "\n",
    "Next, let’s look at a few real-life examples where loops are extremely useful."
   ]
  },
  {
   "cell_type": "code",
   "execution_count": 8,
   "id": "78ecf0ba",
   "metadata": {},
   "outputs": [
    {
     "name": "stdout",
     "output_type": "stream",
     "text": [
      "*\n",
      "**\n",
      "***\n",
      "****\n"
     ]
    }
   ],
   "source": [
    "# Print a right-angled triangle pattern using '*'\n",
    "for i in range(1, 5):\n",
    "    for j in range(i):\n",
    "        print(\"*\", end=\"\")\n",
    "    print()  # new line after each row"
   ]
  },
  {
   "cell_type": "markdown",
   "id": "7bd2c087",
   "metadata": {},
   "source": [
    "\n",
    "- Outer loop: how many rows\n",
    "- Inner loop: how many stars in each row"
   ]
  },
  {
   "cell_type": "markdown",
   "id": "b9fb17c5",
   "metadata": {},
   "source": [
    "### Summary:\n",
    "- Nested loops are useful when dealing with multi-dimensional data or structured patterns.\n",
    "- Each inner loop completes all its iterations for every single iteration of the outer loop.\n",
    "\n",
    "Next, we’ll explore some real-world use cases using what we've learned."
   ]
  },
  {
   "cell_type": "markdown",
   "id": "3403712b",
   "metadata": {},
   "source": [
    "## 5. Real-Life Loop Examples\n",
    "\n",
    "Now that you’ve learned how loops work, let's apply them to solve practical problems.\n",
    "\n",
    "These examples will help you connect loop logic to real-world scenarios."
   ]
  },
  {
   "cell_type": "code",
   "execution_count": 9,
   "id": "dc1f0ef2",
   "metadata": {},
   "outputs": [
    {
     "name": "stdout",
     "output_type": "stream",
     "text": [
      "Multiplication table for 5:\n",
      "5 x 1 = 5\n",
      "5 x 2 = 10\n",
      "5 x 3 = 15\n",
      "5 x 4 = 20\n",
      "5 x 5 = 25\n",
      "5 x 6 = 30\n",
      "5 x 7 = 35\n",
      "5 x 8 = 40\n",
      "5 x 9 = 45\n",
      "5 x 10 = 50\n"
     ]
    }
   ],
   "source": [
    "# Print the multiplication table for a given number\n",
    "num = 5\n",
    "\n",
    "print(f\"Multiplication table for {num}:\")\n",
    "for i in range(1, 11):\n",
    "    print(f\"{num} x {i} = {num * i}\")"
   ]
  },
  {
   "cell_type": "code",
   "execution_count": 10,
   "id": "3d965b58",
   "metadata": {},
   "outputs": [
    {
     "name": "stdout",
     "output_type": "stream",
     "text": [
      "Number of vowels: 9\n"
     ]
    }
   ],
   "source": [
    "# Count number of vowels in a string\n",
    "text = \"Loops are powerful in Python!\"\n",
    "vowels = \"aeiouAEIOU\"\n",
    "count = 0\n",
    "\n",
    "for char in text:\n",
    "    if char in vowels:\n",
    "        count += 1\n",
    "\n",
    "print(f\"Number of vowels: {count}\")"
   ]
  },
  {
   "cell_type": "code",
   "execution_count": null,
   "id": "ce4ff7d5",
   "metadata": {},
   "outputs": [
    {
     "name": "stdout",
     "output_type": "stream",
     "text": [
      "Reversed string: nohtyP\n"
     ]
    }
   ],
   "source": [
    "# Reverse a string using a loop\n",
    "text = \"Python\"\n",
    "reversed_text = \"\"\n",
    "\n",
    "for char in text:\n",
    "    reversed_text = char + reversed_text\n",
    "\n",
    "print(\"Reversed string:\", reversed_text)\n",
    "\n",
    "# We’re not appending the character to the end. Instead, we are prepending it:\n",
    "\n"
   ]
  },
  {
   "cell_type": "code",
   "execution_count": null,
   "id": "ae66ab91",
   "metadata": {},
   "outputs": [],
   "source": []
  }
 ],
 "metadata": {
  "kernelspec": {
   "display_name": "Python 3",
   "language": "python",
   "name": "python3"
  },
  "language_info": {
   "codemirror_mode": {
    "name": "ipython",
    "version": 3
   },
   "file_extension": ".py",
   "mimetype": "text/x-python",
   "name": "python",
   "nbconvert_exporter": "python",
   "pygments_lexer": "ipython3",
   "version": "3.12.9"
  }
 },
 "nbformat": 4,
 "nbformat_minor": 5
}
