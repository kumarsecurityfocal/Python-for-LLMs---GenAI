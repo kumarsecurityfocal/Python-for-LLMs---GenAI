{
 "cells": [
  {
   "cell_type": "markdown",
   "id": "695bd306",
   "metadata": {},
   "source": [
    "# Python Lists - Deep Dive Tutorial "
   ]
  },
  {
   "cell_type": "markdown",
   "id": "832a5c36",
   "metadata": {},
   "source": [
    "## 1. What is a List?\n",
    "\n",
    "A list in Python is an ordered, mutable collection of elements. It allows duplicate values and can contain different data types. You can define a list using square brackets [] or the list() constructor."
   ]
  },
  {
   "cell_type": "code",
   "execution_count": null,
   "id": "0d38eed5",
   "metadata": {},
   "outputs": [],
   "source": [
    "# Define a list of fruits\n",
    "fruits = [\"apple\", \"banana\", \"cherry\"]\n",
    "# Print the list\n",
    "print(fruits)"
   ]
  },
  {
   "cell_type": "markdown",
   "id": "7d8833e9",
   "metadata": {},
   "source": [
    "## 2. List Characteristics\n",
    "\n",
    "- Lists allow duplicate values\n",
    "- Lists can store multiple data types (int, str, float, bool)\n",
    "- Lists are mutable (you can modify them after creation)"
   ]
  },
  {
   "cell_type": "code",
   "execution_count": null,
   "id": "2cd393a3",
   "metadata": {},
   "outputs": [],
   "source": [
    "# List with mixed types and duplicate values\n",
    "mixed_list = [1, \"hello\", 3.14, True, \"hello\"]\n",
    "print(mixed_list)"
   ]
  },
  {
   "cell_type": "markdown",
   "id": "814b0984",
   "metadata": {},
   "source": [
    "## 3. Accessing List Items\n",
    "\n",
    "Access items using positive/negative indexes and slicing.\n",
    "- Positive Indexing: Starts from 0\n",
    "- Negative Indexing: Starts from -1 (last item)\n",
    "- Slicing: list[start:end:step]"
   ]
  },
  {
   "cell_type": "code",
   "execution_count": null,
   "id": "ec9c2ccd",
   "metadata": {},
   "outputs": [],
   "source": [
    "# Define a list\n",
    "fruits = [\"apple\", \"banana\", \"cherry\", \"date\"]\n",
    "# Access first and last item\n",
    "print(fruits[0])\n",
    "print(fruits[-1])\n",
    "# Slice a range from index 1 to 2\n",
    "print(fruits[1:3])\n",
    "\n",
    "# Advanced slicing\n",
    "numbers = [0,1,2,3,4,5,6,7,8,9]\n",
    "print(numbers[::2])   # Every second item\n",
    "print(numbers[::-1])  # Reverse list\n",
    "print(numbers[5:2:-1])  # Step backwards"
   ]
  },
  {
   "cell_type": "markdown",
   "id": "aaf55572",
   "metadata": {},
   "source": [
    "## 4. Modifying Lists\n",
    "\n",
    "Lists are mutable. You can update, add, or replace values using multiple methods."
   ]
  },
  {
   "cell_type": "code",
   "execution_count": null,
   "id": "d5dd94b2",
   "metadata": {},
   "outputs": [],
   "source": [
    "# Update and add values to a list\n",
    "fruits = [\"apple\", \"banana\"]\n",
    "fruits[1] = \"blueberry\"       # Update item\n",
    "fruits.append(\"cherry\")      # Add at end\n",
    "fruits.insert(1, \"banana\")   # Insert at index 1\n",
    "fruits.extend([\"date\", \"elderberry\"])  # Extend list with more items\n",
    "fruits[0:2] = [\"avocado\", \"blackberry\"]  # Replace a range\n",
    "print(fruits)"
   ]
  },
  {
   "cell_type": "markdown",
   "id": "54dbb791",
   "metadata": {},
   "source": [
    "## 5. Removing Items\n",
    "\n",
    "Remove items using remove(), pop(), del, or clear(). Each has different behavior."
   ]
  },
  {
   "cell_type": "code",
   "execution_count": null,
   "id": "0c36b385",
   "metadata": {},
   "outputs": [],
   "source": [
    "# Various ways to remove items\n",
    "fruits = [\"apple\", \"banana\", \"cherry\", \"banana\"]\n",
    "fruits.remove(\"banana\")  # Remove first occurrence\n",
    "print(fruits)\n",
    "fruits.pop()              # Remove last item\n",
    "print(fruits)\n",
    "del fruits[0]             # Delete item at index 0\n",
    "print(fruits)\n",
    "fruits.clear()            # Remove all items\n",
    "print(fruits)"
   ]
  },
  {
   "cell_type": "markdown",
   "id": "65fe8021",
   "metadata": {},
   "source": [
    "## 6. List Operations\n",
    "\n",
    "Lists support concatenation (+), repetition (*), membership tests (in, not in), and comparisons."
   ]
  },
  {
   "cell_type": "code",
   "execution_count": null,
   "id": "d0343ada",
   "metadata": {},
   "outputs": [],
   "source": [
    "# Basic list operations\n",
    "list1 = [1, 2, 3]\n",
    "list2 = [4, 5]\n",
    "print(list1 + list2)  # Concatenation\n",
    "print(list1 * 2)       # Repetition\n",
    "print(\"red\" in [\"red\", \"green\"])  # Membership test\n",
    "print([1, 2] < [1, 2, 3])  # Comparison\n",
    "print(len(list1))"
   ]
  },
  {
   "cell_type": "markdown",
   "id": "5dbfa6ae",
   "metadata": {},
   "source": [
    "## 7. Looping Through Lists\n",
    "\n",
    "Loop using for, while, range, enumerate, reversed, and with control statements like break/continue."
   ]
  },
  {
   "cell_type": "code",
   "execution_count": null,
   "id": "8fae5ce9",
   "metadata": {},
   "outputs": [],
   "source": [
    "# Different ways to loop\n",
    "fruits = [\"apple\", \"banana\", \"cherry\"]\n",
    "for fruit in fruits:\n",
    "    print(fruit)\n",
    "\n",
    "for i in range(len(fruits)):\n",
    "    print(f\"{i} -> {fruits[i]}\")\n",
    "\n",
    "for i, fruit in enumerate(fruits):\n",
    "    print(f\"Index {i} has value {fruit}\")\n",
    "\n",
    "i = 0\n",
    "while i < len(fruits):\n",
    "    print(fruits[i])\n",
    "    i += 1"
   ]
  },
  {
   "cell_type": "markdown",
   "id": "7e15a69a",
   "metadata": {},
   "source": [
    "## 8. List Comprehensions\n",
    "\n",
    "Compact syntax for creating, filtering, or transforming lists. Syntax: expression for item in list if condition == True".
   ]
  },
  {
   "cell_type": "code",
   "execution_count": null,
   "id": "30385230",
   "metadata": {},
   "outputs": [],
   "source": [
    "# Examples of list comprehensions\n",
    "nums = [1, 2, 3, 4, 5]\n",
    "squares = [x**2 for x in nums]  # Square of each number\n",
    "evens = [x for x in nums if x % 2 == 0]  # Only even numbers\n",
    "labels = [\"even\" if x % 2 == 0 else \"odd\" for x in nums]  # Label as even/odd\n",
    "\n",
    "# Flatten a matrix\n",
    "matrix = [[1,2],[3,4],[5,6]]\n",
    "flat = [num for row in matrix for num in row]"
   ]
  },
  {
   "cell_type": "markdown",
   "id": "24138d53",
   "metadata": {},
   "source": [
    "## 9. Useful List Methods\n",
    "\n",
    "Sort, reverse, index, count, copy, and clear lists using built-in methods."
   ]
  },
  {
   "cell_type": "code",
   "execution_count": null,
   "id": "f8b79ef0",
   "metadata": {},
   "outputs": [],
   "source": [
    "# Common list methods\n",
    "nums = [4, 2, 9, 1, 4]\n",
    "nums.sort()         # Sort ascending\n",
    "print(nums)\n",
    "nums.reverse()      # Reverse order\n",
    "print(nums)\n",
    "print(nums.index(4))  # Find index of first 4\n",
    "print(nums.count(4))  # Count occurrences\n",
    "copy_nums = nums.copy()  # Copy list\n",
    "print(copy_nums)\n",
    "copy_nums.clear()   # Clear all items\n",
    "print(copy_nums)"
   ]
  },
  {
   "cell_type": "markdown",
   "id": "e1523f87",
   "metadata": {},
   "source": [
    "## 10. Nested Lists\n",
    "\n",
    "Lists can store other lists: useful for 2D data, matrices, tables."
   ]
  },
  {
   "cell_type": "code",
   "execution_count": null,
   "id": "f42d856b",
   "metadata": {},
   "outputs": [],
   "source": [
    "# Working with 2D lists (matrices)\n",
    "matrix = [[1, 2, 3], [4, 5, 6], [7, 8, 9]]\n",
    "print(matrix[0][1])  # Element at row 0, col 1\n",
    "\n",
    "# Loop through each row and item\n",
    "for row in matrix:\n",
    "    for num in row:\n",
    "        print(num, end=\" \")\n",
    "    print()\n",
    "\n",
    "# Flatten matrix\n",
    "flat = [num for row in matrix for num in row]\n",
    "print(flat)"
   ]
  },
  {
   "cell_type": "markdown",
   "id": "ded650f6",
   "metadata": {},
   "source": [
    "## 11. Real-Life Examples of Lists\n",
    "\n",
    "Use lists to store users, tasks, sensor data, etc."
   ]
  },
  {
   "cell_type": "code",
   "execution_count": null,
   "id": "6cc1d550",
   "metadata": {},
   "outputs": [],
   "source": [
    "# Example use cases\n",
    "users = [\"Amit\", \"Bhavna\", \"Chetan\"]\n",
    "cart = [\"laptop\", \"mouse\"]\n",
    "cart.append(\"monitor\")\n",
    "temperatures = [98.6, 99.1, 100.2]\n",
    "print(sum(temperatures)/len(temperatures))"
   ]
  },
  {
   "cell_type": "markdown",
   "id": "71fc60cd",
   "metadata": {},
   "source": [
    "## 12. Common Errors to Avoid \n",
    "\n",
    "Watch out for IndexError, ValueError, shared references, and logic errors when modifying lists."
   ]
  },
  {
   "cell_type": "code",
   "execution_count": null,
   "id": "61e529cf",
   "metadata": {},
   "outputs": [
    {
     "name": "stdout",
     "output_type": "stream",
     "text": [
      "[1, 2, 3]\n",
      "[1, 2, 3, 4]\n",
      "40\n"
     ]
    }
   ],
   "source": [
    "# Common list-related errors and fixes\n",
    "fruits = [\"apple\", \"banana\"]\n",
    "# print(fruits[5])  # IndexError\n",
    "if \"mango\" in fruits:\n",
    "    fruits.remove(\"mango\")  # Safe removal\n",
    "\n",
    "a = [1, 2, 3]\n",
    "b = a.copy()  # Avoid shared reference like b = a instead use a.copy() or a[:]\n",
    "b.append(4)\n",
    "print(a)\n",
    "print(b)\n",
    "\n",
    "data = [10, \"twenty\", 30] # # total = sum(data)  # ❌ TypeError . Filter or validate the data type\n",
    "numeric_data = [x for x in data if isinstance(x, (int, float))]\n",
    "print(sum(numeric_data))"
   ]
  },
  {
   "cell_type": "code",
   "execution_count": null,
   "id": "56f6a51c",
   "metadata": {},
   "outputs": [],
   "source": []
  }
 ],
 "metadata": {
  "kernelspec": {
   "display_name": "myenv",
   "language": "python",
   "name": "python3"
  },
  "language_info": {
   "codemirror_mode": {
    "name": "ipython",
    "version": 3
   },
   "file_extension": ".py",
   "mimetype": "text/x-python",
   "name": "python",
   "nbconvert_exporter": "python",
   "pygments_lexer": "ipython3",
   "version": "3.10.16"
  }
 },
 "nbformat": 4,
 "nbformat_minor": 5
}
