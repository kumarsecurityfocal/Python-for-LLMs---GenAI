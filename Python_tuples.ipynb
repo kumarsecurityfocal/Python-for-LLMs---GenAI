{
 "cells": [
  {
   "cell_type": "markdown",
   "id": "882a3a1e",
   "metadata": {},
   "source": [
    "### 1. What is a Tuple?\n",
    "\n",
    "A tuple is an ordered, immutable collection.\n",
    "\n",
    "Once created, it cannot be changed (no adding/removing/modifying elements)."
   ]
  },
  {
   "cell_type": "code",
   "execution_count": 2,
   "id": "f5bc8e0d",
   "metadata": {},
   "outputs": [
    {
     "name": "stdout",
     "output_type": "stream",
     "text": [
      "(1, 2, 3)\n",
      "<class 'tuple'>\n"
     ]
    }
   ],
   "source": [
    "my_tuple = (1,2,3)\n",
    "print(my_tuple)\n",
    "print(type(my_tuple))"
   ]
  },
  {
   "cell_type": "markdown",
   "id": "b11ba122",
   "metadata": {},
   "source": [
    "#### 2. Creating Tuples\n",
    "\n",
    "Using parentheses ()\n",
    "\n",
    "Tuple Packing: Wherever python expects a single value, if multiple expressions are provided, separated by commas, they are automatically packed into a tuple.\n",
    "\n",
    "Using tuple() constructor\n",
    "\n",
    "Single item needs a comma!"
   ]
  },
  {
   "cell_type": "markdown",
   "id": "b8772c6c",
   "metadata": {},
   "source": []
  },
  {
   "cell_type": "code",
   "execution_count": 11,
   "id": "e0f210cb",
   "metadata": {},
   "outputs": [
    {
     "name": "stdout",
     "output_type": "stream",
     "text": [
      "<class 'tuple'>\n",
      "<class 'tuple'>\n",
      "<class 'tuple'>\n"
     ]
    }
   ],
   "source": [
    "# With parenthesis\n",
    "t1 = (1, 2, 3)\n",
    "\n",
    "# Without parenthesis (tuple packing)\n",
    "\n",
    "t2 = 4, 5, 6\n",
    "print (type(t2))\n",
    "\n",
    "# Using tuple()\n",
    "\n",
    "t3 = tuple([7, 8, 9])\n",
    "print (type(t3))\n",
    "\n",
    "# Single-item tuple : # To create a tuple with only one item, you have add a comma after the item, otherwise Python will not recognize the variable as a tuple.\n",
    "single = (10,)\n",
    "\n",
    "print(type(single)) "
   ]
  },
  {
   "cell_type": "markdown",
   "id": "2b10b9f7",
   "metadata": {},
   "source": [
    "### 3. Tuple Characteristics\n",
    "\n",
    "Ordered (access by index)\n",
    "\n",
    "Immutable (cannot modify)\n",
    "\n",
    "Allows duplicates\n",
    "\n",
    "Can store different data types"
   ]
  },
  {
   "cell_type": "code",
   "execution_count": 13,
   "id": "737474e4",
   "metadata": {},
   "outputs": [
    {
     "name": "stdout",
     "output_type": "stream",
     "text": [
      "(1, 3.14, 'Hello', True, 'Hello')\n"
     ]
    }
   ],
   "source": [
    "mixed_tuple = (1, 3.14, \"Hello\", True, \"Hello\")\n",
    "print(mixed_tuple)"
   ]
  },
  {
   "cell_type": "markdown",
   "id": "57734ead",
   "metadata": {},
   "source": [
    "### 4. Accessing Tuple Items\n",
    "\n",
    "Positive and negative indexing\n",
    "\n",
    "Slicing works the same way as lists"
   ]
  },
  {
   "cell_type": "code",
   "execution_count": 17,
   "id": "daf31659",
   "metadata": {},
   "outputs": [
    {
     "name": "stdout",
     "output_type": "stream",
     "text": [
      "banana\n",
      "date\n",
      "('banana', 'cherry')\n"
     ]
    }
   ],
   "source": [
    "fruits = (\"apple\", \"banana\", \"cherry\", \"date\")\n",
    "\n",
    "# Positive index\n",
    "\n",
    "print(fruits[1])\n",
    "\n",
    "# Negative index\n",
    "\n",
    "print(fruits[-1])\n",
    "\n",
    "# Slicing\n",
    "\n",
    "print(fruits[1:3])"
   ]
  },
  {
   "cell_type": "markdown",
   "id": "72641999",
   "metadata": {},
   "source": [
    "### 5. Immutability in Tuples\n",
    "\n",
    "What is Immutability?\n",
    "\n",
    "Once a tuple is created, you cannot change its content:\n",
    "No adding\n",
    "No removing\n",
    "No changing items\n",
    "\n",
    "Lists are mutable — you can modify them freely. If at all you have to modify a tuple, you need to convert it to a list, modify and convert back to a tuple."
   ]
  },
  {
   "cell_type": "code",
   "execution_count": 41,
   "id": "da0744e9",
   "metadata": {},
   "outputs": [
    {
     "name": "stdout",
     "output_type": "stream",
     "text": [
      "['apple', 'blueberry', 'cherry']\n"
     ]
    },
    {
     "ename": "TypeError",
     "evalue": "'tuple' object does not support item assignment",
     "output_type": "error",
     "traceback": [
      "\u001b[31m---------------------------------------------------------------------------\u001b[39m",
      "\u001b[31mTypeError\u001b[39m                                 Traceback (most recent call last)",
      "\u001b[36mCell\u001b[39m\u001b[36m \u001b[39m\u001b[32mIn[41]\u001b[39m\u001b[32m, line 8\u001b[39m\n\u001b[32m      6\u001b[39m \u001b[38;5;66;03m# Tuple is immutable\u001b[39;00m\n\u001b[32m      7\u001b[39m fruits_tuple = (\u001b[33m\"\u001b[39m\u001b[33mapple\u001b[39m\u001b[33m\"\u001b[39m, \u001b[33m\"\u001b[39m\u001b[33mbanana\u001b[39m\u001b[33m\"\u001b[39m, \u001b[33m\"\u001b[39m\u001b[33mcherry\u001b[39m\u001b[33m\"\u001b[39m)\n\u001b[32m----> \u001b[39m\u001b[32m8\u001b[39m \u001b[43mfruits_tuple\u001b[49m\u001b[43m[\u001b[49m\u001b[32;43m1\u001b[39;49m\u001b[43m]\u001b[49m = \u001b[33m\"\u001b[39m\u001b[33mblueberry\u001b[39m\u001b[33m\"\u001b[39m  \n",
      "\u001b[31mTypeError\u001b[39m: 'tuple' object does not support item assignment"
     ]
    }
   ],
   "source": [
    "# List is mutable\n",
    "fruits_list = [\"apple\", \"banana\", \"cherry\"]\n",
    "fruits_list[1] = \"blueberry\"  # Allowed\n",
    "print(fruits_list)\n",
    "\n",
    "# Tuple is immutable\n",
    "fruits_tuple = (\"apple\", \"banana\", \"cherry\")\n",
    "fruits_tuple[1] = \"blueberry\"  "
   ]
  },
  {
   "cell_type": "markdown",
   "id": "b877d3b7",
   "metadata": {},
   "source": [
    "### 6. Operations on Tuples\n",
    "\n",
    "Concatenation with +\n",
    "\n",
    "Repetition with *\n",
    "\n",
    "Membership testing\n",
    "\n",
    "Finding length"
   ]
  },
  {
   "cell_type": "code",
   "execution_count": 21,
   "id": "512223ea",
   "metadata": {},
   "outputs": [
    {
     "name": "stdout",
     "output_type": "stream",
     "text": [
      "(1, 2, 3, 4)\n",
      "(1, 2, 1, 2)\n",
      "True\n",
      "2\n"
     ]
    }
   ],
   "source": [
    "a = (1, 2)\n",
    "b = (3, 4)\n",
    "\n",
    "print(a + b)  \n",
    "print(a * 2)\n",
    "\n",
    "print(2 in a)\n",
    "\n",
    "print(len(b))\n"
   ]
  },
  {
   "cell_type": "markdown",
   "id": "7a8507df",
   "metadata": {},
   "source": [
    "### 7. Iterating Through Tuples\n",
    "\n",
    "Using for, while, enumerate\n",
    "\n",
    "enumerate() function adds a counter to each item in a list or other iterable. It turns the iterable into something we can loop through, where each item comes with its number (starting from 0 by default). We can also turn it into a list of (number, item) pairs using list()."
   ]
  },
  {
   "cell_type": "code",
   "execution_count": 24,
   "id": "f8c229a1",
   "metadata": {},
   "outputs": [
    {
     "name": "stdout",
     "output_type": "stream",
     "text": [
      "1\n",
      "2\n",
      "3\n",
      "1\n",
      "2\n",
      "3\n",
      "Index 0: 1\n",
      "Index 1: 2\n",
      "Index 2: 3\n"
     ]
    }
   ],
   "source": [
    "nums = (1, 2, 3)\n",
    "\n",
    "# For loop\n",
    "for num in nums:\n",
    "    print(num)\n",
    "\n",
    "# While loop\n",
    "\n",
    "i = 0\n",
    "while i < len(nums):\n",
    "    print(nums[i])\n",
    "    i += 1\n",
    "\n",
    "# Enumerate\n",
    "for idx, num in enumerate(nums):\n",
    "    print(f\"Index {idx}: {num}\")"
   ]
  },
  {
   "cell_type": "markdown",
   "id": "eb1f2b86",
   "metadata": {},
   "source": [
    "### 8. Tuple Methods\n",
    "\n",
    "count(value) → how many times value appears\n",
    "\n",
    "index(value) → first index of the value"
   ]
  },
  {
   "cell_type": "code",
   "execution_count": 25,
   "id": "d0555589",
   "metadata": {},
   "outputs": [
    {
     "name": "stdout",
     "output_type": "stream",
     "text": [
      "3\n",
      "3\n"
     ]
    }
   ],
   "source": [
    "t = (1, 2, 2, 3, 4, 2)\n",
    "\n",
    "print(t.count(2))  # 3\n",
    "\n",
    "print(t.index(3))  # 3"
   ]
  },
  {
   "cell_type": "markdown",
   "id": "06cf8f83",
   "metadata": {},
   "source": [
    "### 9. Nesting and Unpacking Tuples\n",
    "\n",
    "Nesting tuples inside each other\n",
    "\n",
    "Unpacking tuples into variables : When we create a tuple, we normally assign values to it. This is called \"packing\" a tuple and when we extract the values back into variables. This is called \"unpacking\".\n",
    "\n",
    "Using Asterisk(*) If the number of variables is less than the number of values, you can add an * to the variable name and the values will be assigned to the variable as a list.\n",
    "\n",
    "If the asterisk is added to another variable name than the last, Python will assign values to the variable until the number of values left matches the number of variables left."
   ]
  },
  {
   "cell_type": "code",
   "execution_count": 32,
   "id": "b8fab42a",
   "metadata": {},
   "outputs": [
    {
     "name": "stdout",
     "output_type": "stream",
     "text": [
      "(1, 2, 3)\n",
      "Apple\n",
      "10\n",
      "20\n",
      "apple\n",
      "banana\n",
      "cherry\n",
      "apple\n",
      "banana\n",
      "['cherry', 'strawberry', 'raspberry']\n",
      "apple\n",
      "['mango', 'papaya', 'pineapple']\n",
      "cherry\n"
     ]
    }
   ],
   "source": [
    "# Nested tuple\n",
    "nested = ((1, 2, 3), (4, \"Apple\", 5), (3.14, 6, 7) )\n",
    "print(nested[0])\n",
    "print(nested[1][1])\n",
    "\n",
    "# Unpacking\n",
    "\n",
    "coordinates = (10, 20)\n",
    "x, y = coordinates\n",
    "print(x)\n",
    "print(y)\n",
    "\n",
    "fruits = (\"apple\", \"banana\", \"cherry\")\n",
    "(green, yellow, red) = fruits\n",
    "\n",
    "print(green)\n",
    "print(yellow)\n",
    "print(red)\n",
    "\n",
    "# Using Asterisk(*)\n",
    "\n",
    "fruits = (\"apple\", \"banana\", \"cherry\", \"strawberry\", \"raspberry\")\n",
    "\n",
    "(green, yellow, *red) = fruits\n",
    "\n",
    "print(green)\n",
    "print(yellow)\n",
    "print(red)\n",
    "\n",
    "\n",
    "fruits = (\"apple\", \"mango\", \"papaya\", \"pineapple\", \"cherry\")\n",
    "\n",
    "(green, *tropic, red) = fruits\n",
    "\n",
    "print(green)\n",
    "print(tropic)\n",
    "print(red)"
   ]
  },
  {
   "cell_type": "markdown",
   "id": "184fa2be",
   "metadata": {},
   "source": [
    "### 10. Immutability Workarounds\n",
    "\n",
    "Tuples can't be modified, but you can convert to list, modify, and convert back."
   ]
  },
  {
   "cell_type": "code",
   "execution_count": 35,
   "id": "354403a6",
   "metadata": {},
   "outputs": [
    {
     "name": "stdout",
     "output_type": "stream",
     "text": [
      "(1, 2, 3, 4)\n"
     ]
    }
   ],
   "source": [
    "t = (1, 2, 3)\n",
    "\n",
    "# t.append(4)\n",
    "\n",
    "temp = list(t)\n",
    "\n",
    "temp.append(4)\n",
    "\n",
    "t = tuple(temp)\n",
    "\n",
    "print(t)"
   ]
  },
  {
   "cell_type": "markdown",
   "id": "27432944",
   "metadata": {},
   "source": [
    "### 11. Real-Life Use Cases for Tuples\n",
    "\n",
    "Immutability makes tuples safe for constant data (e.g., database keys, coordinates).\n",
    "\n",
    "Storing coordinates\n",
    "\n",
    "Returning multiple values from functions\n",
    "\n",
    "Database query results (rows)\n",
    "\n",
    "Immutable configurations (like RGB colors)"
   ]
  },
  {
   "cell_type": "code",
   "execution_count": 36,
   "id": "0c7ad265",
   "metadata": {},
   "outputs": [
    {
     "name": "stdout",
     "output_type": "stream",
     "text": [
      "(8, 15)\n"
     ]
    }
   ],
   "source": [
    "# Coordinates\n",
    "point = (10, 20)\n",
    "\n",
    "# Function returning multiple values\n",
    "def calc(x, y):\n",
    "    return (x+y, x*y)\n",
    "\n",
    "result = calc(5, 3)\n",
    "print(result)\n",
    "\n",
    "# RGB color values\n",
    "color = (255, 255, 0)"
   ]
  },
  {
   "cell_type": "markdown",
   "id": "3636b1bc",
   "metadata": {},
   "source": [
    "### 12. Common Mistakes to Avoid\n",
    "\n",
    "Forgetting comma in single-item tuple\n",
    "\n",
    "Trying to modify tuple directly\n",
    "\n",
    "Confusing tuple packing and unpacking"
   ]
  },
  {
   "cell_type": "code",
   "execution_count": 37,
   "id": "8f80172b",
   "metadata": {},
   "outputs": [
    {
     "name": "stdout",
     "output_type": "stream",
     "text": [
      "<class 'int'>\n",
      "<class 'tuple'>\n"
     ]
    }
   ],
   "source": [
    "# Wrong single-item tuple\n",
    "\n",
    "wrong = (5)     # This is an integer, not a tuple\n",
    "print(type(wrong))  # <class 'int'>\n",
    "\n",
    "# Correct single-item tuple\n",
    "right = (5,)\n",
    "print(type(right))  # <class 'tuple'>"
   ]
  }
 ],
 "metadata": {
  "kernelspec": {
   "display_name": "Python 3",
   "language": "python",
   "name": "python3"
  },
  "language_info": {
   "codemirror_mode": {
    "name": "ipython",
    "version": 3
   },
   "file_extension": ".py",
   "mimetype": "text/x-python",
   "name": "python",
   "nbconvert_exporter": "python",
   "pygments_lexer": "ipython3",
   "version": "3.12.9"
  }
 },
 "nbformat": 4,
 "nbformat_minor": 5
}
