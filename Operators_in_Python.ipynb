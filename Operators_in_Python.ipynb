{
 "cells": [
  {
   "cell_type": "markdown",
   "id": "583af246",
   "metadata": {},
   "source": [
    "# 🧮 Python Operators\n",
    "\n",
    "Operators are special symbols or keywords that perform operations on variables and values. Let's explore the different types of operators in Python."
   ]
  },
  {
   "cell_type": "markdown",
   "id": "6a2bfec8",
   "metadata": {},
   "source": [
    "## ➕ Arithmetic Operators\n",
    "These are used to perform basic mathematical operations."
   ]
  },
  {
   "cell_type": "code",
   "execution_count": null,
   "id": "0814c1b4",
   "metadata": {},
   "outputs": [],
   "source": [
    "a = 15\n",
    "b = 4\n",
    "\n",
    "print(\"Addition:\", a + b)         # 19\n",
    "print(\"Subtraction:\", a - b)      # 11\n",
    "print(\"Multiplication:\", a * b)   # 60\n",
    "print(\"Division:\", a / b)         # 3.75\n",
    "print(\"Floor Division:\", a // b)  # 3\n",
    "print(\"Modulus:\", a % b)          # 3\n",
    "print(\"Exponentiation:\", a ** b)  # 50625"
   ]
  },
  {
   "cell_type": "markdown",
   "id": "fdc88889",
   "metadata": {},
   "source": [
    "## ⚖️ Comparison Operators\n",
    "Used to compare values and return a boolean result."
   ]
  },
  {
   "cell_type": "code",
   "execution_count": null,
   "id": "de842567",
   "metadata": {},
   "outputs": [],
   "source": [
    "x = 10\n",
    "y = 20\n",
    "\n",
    "print(\"x == y:\", x == y)\n",
    "print(\"x != y:\", x != y)\n",
    "print(\"x > y:\", x > y)\n",
    "print(\"x < y:\", x < y)\n",
    "print(\"x >= y:\", x >= y)\n",
    "print(\"x <= y:\", x <= y)"
   ]
  },
  {
   "cell_type": "markdown",
   "id": "32662bfc",
   "metadata": {},
   "source": [
    "## 🧠 Logical Operators\n",
    "Combine multiple conditions using logical operators."
   ]
  },
  {
   "cell_type": "code",
   "execution_count": null,
   "id": "5f1e2693",
   "metadata": {},
   "outputs": [],
   "source": [
    "a = True\n",
    "b = False\n",
    "\n",
    "print(\"a and b:\", a and b)\n",
    "print(\"a or b:\", a or b)\n",
    "print(\"not a:\", not a)"
   ]
  },
  {
   "cell_type": "markdown",
   "id": "5379843b",
   "metadata": {},
   "source": [
    "## 📝 Assignment Operators\n",
    "Used to assign values to variables with or without performing operations."
   ]
  },
  {
   "cell_type": "code",
   "execution_count": null,
   "id": "a91e18ca",
   "metadata": {},
   "outputs": [],
   "source": [
    "num = 10\n",
    "print(\"Initial value:\", num)\n",
    "\n",
    "num += 5   # equivalent to num = num + 5\n",
    "print(\"After += 5:\", num)\n",
    "\n",
    "num *= 2\n",
    "print(\"After *= 2:\", num)\n",
    "\n",
    "num -= 3\n",
    "print(\"After -= 3:\", num)"
   ]
  },
  {
   "cell_type": "markdown",
   "id": "1b11dc8f",
   "metadata": {},
   "source": [
    "## 🔢 Bitwise Operators\n",
    "Work at the bit level. Mainly used in low-level programming."
   ]
  },
  {
   "cell_type": "code",
   "execution_count": null,
   "id": "42a5d38c",
   "metadata": {},
   "outputs": [],
   "source": [
    "p = 5     # 0b0101\n",
    "q = 3     # 0b0011\n",
    "\n",
    "print(\"p & q:\", p & q)    # 1\n",
    "print(\"p | q:\", p | q)    # 7\n",
    "print(\"p ^ q:\", p ^ q)    # 6\n",
    "print(\"~p:\", ~p)          # -6\n",
    "print(\"p << 1:\", p << 1)  # 10\n",
    "print(\"p >> 1:\", p >> 1)  # 2"
   ]
  },
  {
   "cell_type": "markdown",
   "id": "726145ba",
   "metadata": {},
   "source": [
    "## 🔍 Identity and Membership Operators\n",
    "Used to check object identity and presence in a sequence."
   ]
  },
  {
   "cell_type": "code",
   "execution_count": null,
   "id": "e5dbad10",
   "metadata": {},
   "outputs": [],
   "source": [
    "a = [1, 2, 3]\n",
    "b = a\n",
    "c = [1, 2, 3]\n",
    "\n",
    "print(\"a is b:\", a is b)\n",
    "print(\"a is c:\", a is c)\n",
    "print(\"2 in a:\", 2 in a)\n",
    "print(\"4 not in a:\", 4 not in a)"
   ]
  },
  {
   "cell_type": "markdown",
   "id": "bed88ef5",
   "metadata": {},
   "source": [
    "## 🧪 Try It Yourself!\n",
    "Pause and predict the output."
   ]
  },
  {
   "cell_type": "code",
   "execution_count": null,
   "id": "2930cedb",
   "metadata": {},
   "outputs": [],
   "source": [
    "x = 7\n",
    "y = 2\n",
    "\n",
    "print(x % y)\n",
    "print(x ** y)\n",
    "print(x > y and y < 1)\n",
    "print(not (x < 10))"
   ]
  },
  {
   "cell_type": "markdown",
   "id": "06d0d9f6",
   "metadata": {},
   "source": [
    "## ✅ Summary\n",
    "- Arithmetic: `+`, `-`, `*`, `/`, `//`, `%`, `**`\n",
    "- Comparison: `==`, `!=`, `>`, `<`, `>=`, `<=`\n",
    "- Logical: `and`, `or`, `not`\n",
    "- Assignment: `=`, `+=`, `-=`, etc.\n",
    "- Bitwise: `&`, `|`, `^`, `~`, `<<`, `>>`\n",
    "- Identity: `is`, `is not`\n",
    "- Membership: `in`, `not in`\n",
    "\n",
    "Try combining these operators in creative ways!"
   ]
  }
 ],
 "metadata": {
  "kernelspec": {
   "display_name": "Python 3",
   "language": "python",
   "name": "python3"
  },
  "language_info": {
   "codemirror_mode": {
    "name": "ipython",
    "version": 3
   },
   "file_extension": ".py",
   "mimetype": "text/x-python",
   "name": "python",
   "nbconvert_exporter": "python",
   "pygments_lexer": "ipython3",
   "version": "3.12.0"
  }
 },
 "nbformat": 4,
 "nbformat_minor": 2
}
