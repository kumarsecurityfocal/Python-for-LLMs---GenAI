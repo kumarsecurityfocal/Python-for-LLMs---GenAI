{
 "cells": [
  {
   "cell_type": "markdown",
   "id": "c44d198b",
   "metadata": {},
   "source": [
    "##  Conditional Statements in Python (with User Input)\n",
    "Let's make our programs interactive by taking input from the user!\n",
    "\n",
    "### 🎯 Topics Covered:\n",
    "1. `if` statement\n",
    "2. `if-else` statement\n",
    "3. `if-elif-else` ladder\n",
    "4. Nested conditionals\n",
    "5. Practical examples with user input\n",
    "6. Bonus: Leap Year Checker"
   ]
  },
  {
   "cell_type": "markdown",
   "id": "002bb059",
   "metadata": {},
   "source": [
    "### ✅ Example 1: `if` Statement"
   ]
  },
  {
   "cell_type": "code",
   "execution_count": null,
   "id": "67ac1b7f",
   "metadata": {},
   "outputs": [],
   "source": [
    "# Check if a number is positive\n",
    "number = int(input(\"Enter a number: \"))\n",
    "\n",
    "if number > 0:\n",
    "    print(f\"{number} is a positive number\")"
   ]
  },
  {
   "cell_type": "markdown",
   "id": "a43c899d",
   "metadata": {},
   "source": [
    "### 🔁 Example 2: `if-else` Statement"
   ]
  },
  {
   "cell_type": "code",
   "execution_count": null,
   "id": "474e7c41",
   "metadata": {},
   "outputs": [],
   "source": [
    "# Check if a number is even or odd\n",
    "number = int(input(\"Enter a number: \"))\n",
    "\n",
    "if number % 2 == 0:\n",
    "    print(f\"{number} is even\")\n",
    "else:\n",
    "    print(f\"{number} is odd\")"
   ]
  },
  {
   "cell_type": "markdown",
   "id": "acccdd4f",
   "metadata": {},
   "source": [
    "### 🪜 Example 3: `if-elif-else` Ladder"
   ]
  },
  {
   "cell_type": "code",
   "execution_count": null,
   "id": "086244a1",
   "metadata": {},
   "outputs": [],
   "source": [
    "# Categorize age groups\n",
    "age = int(input(\"Enter your age: \"))\n",
    "\n",
    "if age < 13:\n",
    "    print(\"You are a child.\")\n",
    "elif age < 20:\n",
    "    print(\"You are a teenager.\")\n",
    "elif age < 60:\n",
    "    print(\"You are an adult.\")\n",
    "else:\n",
    "    print(\"You are a senior citizen.\")"
   ]
  },
  {
   "cell_type": "markdown",
   "id": "0d28cfe3",
   "metadata": {},
   "source": [
    "### 🧩 Example 4: Nested Conditional Statements"
   ]
  },
  {
   "cell_type": "code",
   "execution_count": null,
   "id": "3f103b29",
   "metadata": {},
   "outputs": [],
   "source": [
    "# Check eligibility for a job based on age and experience\n",
    "age = int(input(\"Enter your age: \"))\n",
    "experience = int(input(\"Enter your years of experience: \"))\n",
    "\n",
    "if age >= 18:\n",
    "    if experience >= 2:\n",
    "        print(\"You are eligible for the job.\")\n",
    "    else:\n",
    "        print(\"Gain more experience to qualify.\")\n",
    "else:\n",
    "    print(\"You must be at least 18 years old to apply.\")"
   ]
  },
  {
   "cell_type": "markdown",
   "id": "3a068d92",
   "metadata": {},
   "source": [
    "### 💡 Example 5: Grading System"
   ]
  },
  {
   "cell_type": "code",
   "execution_count": null,
   "id": "f0eda706",
   "metadata": {},
   "outputs": [],
   "source": [
    "# Convert score to grade\n",
    "score = int(input(\"Enter your score (0-100): \"))\n",
    "\n",
    "if score >= 90:\n",
    "    grade = 'A'\n",
    "elif score >= 80:\n",
    "    grade = 'B'\n",
    "elif score >= 70:\n",
    "    grade = 'C'\n",
    "elif score >= 60:\n",
    "    grade = 'D'\n",
    "else:\n",
    "    grade = 'F'\n",
    "\n",
    "print(f\"Score: {score} => Grade: {grade}\")"
   ]
  },
  {
   "cell_type": "markdown",
   "id": "5219f1b9",
   "metadata": {},
   "source": [
    "### 🌍 Bonus Example: Leap Year Checker"
   ]
  },
  {
   "cell_type": "code",
   "execution_count": 2,
   "id": "436396e0",
   "metadata": {},
   "outputs": [
    {
     "name": "stdout",
     "output_type": "stream",
     "text": [
      "2021 is not a leap year\n"
     ]
    }
   ],
   "source": [
    "# Ask the user to enter a year and convert it to an integer\n",
    "year = int(input(\"Enter a year: \"))\n",
    "\n",
    "# Step 1: Check if the year is NOT divisible by 4\n",
    "# If it isn't divisible by 4, it's definitely not a leap year.\n",
    "if year % 4 != 0:\n",
    "    print(f\"{year} is not a leap year\")\n",
    "\n",
    "# Step 2: Check if the year is divisible by 4 but NOT by 100\n",
    "# These years ARE leap years. For example: 2024, 2028, etc.\n",
    "elif year % 100 != 0:\n",
    "    print(f\"{year} is a leap year\")\n",
    "\n",
    "# Step 3: The year is divisible by 100. Now check if it's divisible by 400.\n",
    "# Only those divisible by 400 are leap years. For example: 2000, 2400, etc.\n",
    "elif year % 400 == 0:\n",
    "    print(f\"{year} is a leap year\")\n",
    "\n",
    "# Step 4: The year is divisible by 100 but NOT by 400.\n",
    "# These years are NOT leap years. For example: 1900, 2100, etc.\n",
    "else:\n",
    "    print(f\"{year} is not a leap year\")\n"
   ]
  },
  {
   "cell_type": "markdown",
   "id": "1922a646",
   "metadata": {},
   "source": [
    "### 📝 Summary:\n",
    "- You can take input from users using `input()`.\n",
    "- Remember to convert it using `int()` when working with numbers.\n",
    "- Conditional logic lets you build smart and interactive programs.\n",
    "\n",
    "Now experiment by entering different values in each example! 🚀"
   ]
  }
 ],
 "metadata": {
  "kernelspec": {
   "display_name": "base",
   "language": "python",
   "name": "python3"
  },
  "language_info": {
   "codemirror_mode": {
    "name": "ipython",
    "version": 3
   },
   "file_extension": ".py",
   "mimetype": "text/x-python",
   "name": "python",
   "nbconvert_exporter": "python",
   "pygments_lexer": "ipython3",
   "version": "3.12.7"
  }
 },
 "nbformat": 4,
 "nbformat_minor": 2
}
